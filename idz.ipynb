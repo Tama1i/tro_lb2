{
 "cells": [
  {
   "cell_type": "markdown",
   "id": "8cc384b3",
   "metadata": {},
   "source": [
    "## Задание\n",
    " Дана целочисленная квадратная матрица. Определить:\n",
    "произведение элементов в тех строках, которые не содержат отрицательных элементов;\n",
    "максимум среди сумм элементов диагоналей, параллельных главной диагонали матрицы.\n"
   ]
  },
  {
   "cell_type": "code",
   "execution_count": 104,
   "id": "90c6a701",
   "metadata": {},
   "outputs": [
    {
     "name": "stdout",
     "output_type": "stream",
     "text": [
      "[[ 1  0  3]\n",
      " [ 5  2  6]\n",
      " [ 9 -9  5]]\n",
      "[[ True  True  True]\n",
      " [ True  True  True]\n",
      " [ True False  True]]\n",
      "[1 1 0]\n",
      "[ True  True False]\n",
      "\n",
      "Произведение элементов в тех строках, которые не содержат отрицательных элементов\n",
      "[[ 0]\n",
      " [60]]\n"
     ]
    }
   ],
   "source": [
    "import numpy as np\n",
    "\n",
    "m = np.matrix('1 0 3; 5 2 6; 9 -9 5') #зададим квадратную матрицу\n",
    "print(m)\n",
    "md = m \n",
    "md = np.where(m >= 0, True, False)\n",
    "print(md)\n",
    "md = md.prod(axis = 1)#                 создадим мод для матриц\n",
    "print(md)\n",
    "md = np.where(md > 0, True, False)#\n",
    "mo = m.prod(axis = 1)\n",
    "print(md)\n",
    "print (\"\\nПроизведение элементов в тех строках, которые не содержат отрицательных элементов\")\n",
    "print (mo[md])"
   ]
  },
  {
   "cell_type": "markdown",
   "id": "61e569c7",
   "metadata": {},
   "source": [
    "*Найдем максимум среди сумм элементов диагоналей, параллельных главной диагонали матрицы.*"
   ]
  },
  {
   "cell_type": "code",
   "execution_count": 86,
   "id": "30dc368f",
   "metadata": {},
   "outputs": [
    {
     "name": "stdout",
     "output_type": "stream",
     "text": [
      "14\n"
     ]
    }
   ],
   "source": [
    "dd = np.array([np.trace (m, offset = -2),np.trace (m, offset = -1),np.trace (m, offset = 1),np.trace (m, offset = 2)])\n",
    "\n",
    "print(dd.max())"
   ]
  }
 ],
 "metadata": {
  "kernelspec": {
   "display_name": "Python 3 (ipykernel)",
   "language": "python",
   "name": "python3"
  },
  "language_info": {
   "codemirror_mode": {
    "name": "ipython",
    "version": 3
   },
   "file_extension": ".py",
   "mimetype": "text/x-python",
   "name": "python",
   "nbconvert_exporter": "python",
   "pygments_lexer": "ipython3",
   "version": "3.9.13"
  }
 },
 "nbformat": 4,
 "nbformat_minor": 5
}

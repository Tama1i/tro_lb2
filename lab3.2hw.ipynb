{
 "cells": [
  {
   "cell_type": "markdown",
   "metadata": {},
   "source": [
    "# Лабораторная работа 3.2. Домашнее задание"
   ]
  },
  {
   "cell_type": "markdown",
   "metadata": {},
   "source": [
    "### Задание №1"
   ]
  },
  {
   "cell_type": "markdown",
   "metadata": {},
   "source": [
    "Создайте два массива: в первом должны быть четные числа от 2 до 12 включительно, а в другом числа 7, 11, 15, 18, 23, 29."
   ]
  },
  {
   "cell_type": "markdown",
   "metadata": {},
   "source": [
    "$1.$ Сложите массивы и возведите элементы получившегося массива в квадрат:"
   ]
  },
  {
   "cell_type": "code",
   "execution_count": 2,
   "metadata": {
    "jupyter": {
     "outputs_hidden": true
    }
   },
   "outputs": [
    {
     "name": "stdout",
     "output_type": "stream",
     "text": [
      "[  81  225  441  676 1089 1681]\n"
     ]
    }
   ],
   "source": [
    "import numpy as np\n",
    "a = np.arange(2, 13, 2)\n",
    "b = np.array([7, 11, 15, 18, 23, 29])\n",
    "print((a + b) ** 2)"
   ]
  },
  {
   "cell_type": "markdown",
   "metadata": {},
   "source": [
    "$2.$ Выведите все элементы из первого массива, индексы которых соответствуют индексам тех элементов второго массива, которые больше 12 и дают остаток 3 при делении на 5."
   ]
  },
  {
   "cell_type": "code",
   "execution_count": 3,
   "metadata": {
    "jupyter": {
     "outputs_hidden": true
    }
   },
   "outputs": [
    {
     "name": "stdout",
     "output_type": "stream",
     "text": [
      "[ 8 10]\n"
     ]
    }
   ],
   "source": [
    "print(a[(b > 12) & (b % 5 == 3)])"
   ]
  },
  {
   "cell_type": "markdown",
   "metadata": {},
   "source": [
    "*3.* Проверьте условие \"Элементы первого массива делятся на 4, элементы второго массива меньше 14\". (Подсказка: в результате должен получиться массив с True и False)"
   ]
  },
  {
   "cell_type": "code",
   "execution_count": 4,
   "metadata": {},
   "outputs": [
    {
     "name": "stdout",
     "output_type": "stream",
     "text": [
      "[False  True False  True False  True]\n",
      "[ True  True False False False False]\n"
     ]
    }
   ],
   "source": [
    "print(a % 4 == 0)\n",
    "print(b < 14)"
   ]
  },
  {
   "cell_type": "markdown",
   "metadata": {},
   "source": [
    "### Задание №2"
   ]
  },
  {
   "cell_type": "markdown",
   "metadata": {},
   "source": [
    "* Найдите интересный для вас датасет. Например, можно выбрать датасет тут. http://data.un.org/Explorer.aspx (выбираете датасет, жмете на view data, потом download, выбирайте csv формат)\n",
    "* Рассчитайте подходящие описательные статистики для признаков объектов в выбранном датасете\n",
    "* Проанализируйте и прокомментируйте содержательно получившиеся результаты\n",
    "* Все комментарии оформляйте строго в ячейках формата markdown\n",
    "    "
   ]
  },
  {
   "cell_type": "code",
   "execution_count": 24,
   "metadata": {
    "jupyter": {
     "outputs_hidden": true
    }
   },
   "outputs": [],
   "source": [
    "import csv\n",
    "import numpy as np\n",
    "\n",
    "with open('musiccaps-public.csv', 'r', newline='') as fi:\n",
    "    d = csv.reader(fi, delimiter=',')\n",
    "    st = []\n",
    "    en = []\n",
    "    for row in d:\n",
    "        if row[0] == \"ytid\":\n",
    "            continue\n",
    "        st.append(float(row[1])) #Позиция в видео на YouTube, с которой начинается музыка.\n",
    "        en.append(float(row[2])) # Позиция в видео YouTube, на которой заканчивается музыка. Все клипы имеют длину 10 секунд.\n",
    "        \n",
    "arr1 = np.array(st)\n",
    "arr2 = np.array(en)"
   ]
  },
  {
   "cell_type": "code",
   "execution_count": 25,
   "metadata": {},
   "outputs": [
    {
     "name": "stdout",
     "output_type": "stream",
     "text": [
      "Средняя позиции в видео на YouTube, с которой начинается музыка.: 89.1\n",
      "Средняя позиция в видео YouTube, на которой заканчивается музыка: 99.1\n",
      "\n",
      "Максимальное значение позиции в видео на YouTube, с которой начинается музыка.: 590.0\n",
      "Максимальное значение позиции в видео на YouTube, на которой заканчивается музыка: 600.0\n",
      "\n",
      "Минимальное значение позиции в видео на YouTube, с которой начинается музыка.: 0.0\n",
      "Минимальное значение позиции в видео на YouTube, на которой заканчивается музыка: 10.0\n",
      "\n",
      "Среднее отклонение позиции в видео на YouTube, с которой начинается музыка.: 110.22\n",
      "Среднее отклонение позиции в видео на YouTube, на которой заканчивается музыка: 110.22\n"
     ]
    }
   ],
   "source": [
    "print(f\"Средняя позиции в видео на YouTube, с которой начинается музыка.: {round(np.mean(arr1),2)}\")\n",
    "print(f\"Средняя позиция в видео YouTube, на которой заканчивается музыка: {round(np.mean(arr2),2)}\")\n",
    "\n",
    "print(f\"\\nМаксимальное значение позиции в видео на YouTube, с которой начинается музыка.: {np.max(arr1)}\")\n",
    "print(f\"Максимальное значение позиции в видео на YouTube, на которой заканчивается музыка: {np.max(arr2)}\")\n",
    "\n",
    "print(f\"\\nМинимальное значение позиции в видео на YouTube, с которой начинается музыка.: {np.min(arr1)}\")\n",
    "print(f\"Минимальное значение позиции в видео на YouTube, на которой заканчивается музыка: {np.min(arr2)}\")\n",
    "\n",
    "print(f\"\\nСреднее отклонение позиции в видео на YouTube, с которой начинается музыка.: {round(np.std(arr1),2)}\")\n",
    "print(f\"Среднее отклонение позиции в видео на YouTube, на которой заканчивается музыка: {round(np.std(arr2),2)}\")"
   ]
  },
  {
   "cell_type": "markdown",
   "metadata": {},
   "source": [
    "1. значение с котрого начинается музыка варьируется от 0 до 590\n",
    "2. среднее отклонение позиции с которой начинается и на которой заканчивается музыка 110.22"
   ]
  }
 ],
 "metadata": {
  "kernelspec": {
   "display_name": "Python 3 (ipykernel)",
   "language": "python",
   "name": "python3"
  },
  "language_info": {
   "codemirror_mode": {
    "name": "ipython",
    "version": 3
   },
   "file_extension": ".py",
   "mimetype": "text/x-python",
   "name": "python",
   "nbconvert_exporter": "python",
   "pygments_lexer": "ipython3",
   "version": "3.9.13"
  }
 },
 "nbformat": 4,
 "nbformat_minor": 4
}
